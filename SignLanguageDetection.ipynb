{
 "cells": [
  {
   "cell_type": "code",
   "execution_count": 1,
   "id": "55b675c7-e466-4787-936c-a4970746f1b1",
   "metadata": {},
   "outputs": [
    {
     "name": "stdout",
     "output_type": "stream",
     "text": [
      "Requirement already satisfied: tensorflow==2.14.1 in /Users/hallo/anaconda3/lib/python3.11/site-packages (2.14.1)\n",
      "Requirement already satisfied: opencv-python in /Users/hallo/anaconda3/lib/python3.11/site-packages (4.8.1.78)\n",
      "Requirement already satisfied: mediapipe in /Users/hallo/anaconda3/lib/python3.11/site-packages (0.9.1.0)\n",
      "Requirement already satisfied: scikit-learn in /Users/hallo/anaconda3/lib/python3.11/site-packages (1.3.0)\n",
      "Requirement already satisfied: matplotlib in /Users/hallo/anaconda3/lib/python3.11/site-packages (3.7.2)\n",
      "Requirement already satisfied: absl-py>=1.0.0 in /Users/hallo/anaconda3/lib/python3.11/site-packages (from tensorflow==2.14.1) (2.0.0)\n",
      "Requirement already satisfied: astunparse>=1.6.0 in /Users/hallo/anaconda3/lib/python3.11/site-packages (from tensorflow==2.14.1) (1.6.3)\n",
      "Requirement already satisfied: flatbuffers>=23.5.26 in /Users/hallo/anaconda3/lib/python3.11/site-packages (from tensorflow==2.14.1) (23.5.26)\n",
      "Requirement already satisfied: gast!=0.5.0,!=0.5.1,!=0.5.2,>=0.2.1 in /Users/hallo/anaconda3/lib/python3.11/site-packages (from tensorflow==2.14.1) (0.5.4)\n",
      "Requirement already satisfied: google-pasta>=0.1.1 in /Users/hallo/anaconda3/lib/python3.11/site-packages (from tensorflow==2.14.1) (0.2.0)\n",
      "Requirement already satisfied: h5py>=2.9.0 in /Users/hallo/anaconda3/lib/python3.11/site-packages (from tensorflow==2.14.1) (3.9.0)\n",
      "Requirement already satisfied: libclang>=13.0.0 in /Users/hallo/anaconda3/lib/python3.11/site-packages (from tensorflow==2.14.1) (16.0.6)\n",
      "Requirement already satisfied: ml-dtypes==0.2.0 in /Users/hallo/anaconda3/lib/python3.11/site-packages (from tensorflow==2.14.1) (0.2.0)\n",
      "Requirement already satisfied: numpy<2.0.0,>=1.23.5 in /Users/hallo/anaconda3/lib/python3.11/site-packages (from tensorflow==2.14.1) (1.24.3)\n",
      "Requirement already satisfied: opt-einsum>=2.3.2 in /Users/hallo/anaconda3/lib/python3.11/site-packages (from tensorflow==2.14.1) (3.3.0)\n",
      "Requirement already satisfied: packaging in /Users/hallo/anaconda3/lib/python3.11/site-packages (from tensorflow==2.14.1) (23.1)\n",
      "Requirement already satisfied: protobuf!=4.21.0,!=4.21.1,!=4.21.2,!=4.21.3,!=4.21.4,!=4.21.5,<5.0.0dev,>=3.20.3 in /Users/hallo/anaconda3/lib/python3.11/site-packages (from tensorflow==2.14.1) (3.20.3)\n",
      "Requirement already satisfied: setuptools in /Users/hallo/anaconda3/lib/python3.11/site-packages (from tensorflow==2.14.1) (68.0.0)\n",
      "Requirement already satisfied: six>=1.12.0 in /Users/hallo/anaconda3/lib/python3.11/site-packages (from tensorflow==2.14.1) (1.16.0)\n",
      "Requirement already satisfied: termcolor>=1.1.0 in /Users/hallo/anaconda3/lib/python3.11/site-packages (from tensorflow==2.14.1) (2.3.0)\n",
      "Requirement already satisfied: typing-extensions>=3.6.6 in /Users/hallo/anaconda3/lib/python3.11/site-packages (from tensorflow==2.14.1) (4.7.1)\n",
      "Requirement already satisfied: wrapt<1.15,>=1.11.0 in /Users/hallo/anaconda3/lib/python3.11/site-packages (from tensorflow==2.14.1) (1.14.1)\n",
      "Requirement already satisfied: tensorflow-io-gcs-filesystem>=0.23.1 in /Users/hallo/anaconda3/lib/python3.11/site-packages (from tensorflow==2.14.1) (0.34.0)\n",
      "Requirement already satisfied: grpcio<2.0,>=1.24.3 in /Users/hallo/anaconda3/lib/python3.11/site-packages (from tensorflow==2.14.1) (1.59.3)\n",
      "Requirement already satisfied: tensorboard<2.15,>=2.14 in /Users/hallo/anaconda3/lib/python3.11/site-packages (from tensorflow==2.14.1) (2.14.1)\n",
      "Requirement already satisfied: tensorflow-estimator<2.15,>=2.14.0 in /Users/hallo/anaconda3/lib/python3.11/site-packages (from tensorflow==2.14.1) (2.14.0)\n",
      "Requirement already satisfied: keras<2.15,>=2.14.0 in /Users/hallo/anaconda3/lib/python3.11/site-packages (from tensorflow==2.14.1) (2.14.0)\n",
      "Requirement already satisfied: attrs>=19.1.0 in /Users/hallo/anaconda3/lib/python3.11/site-packages (from mediapipe) (22.1.0)\n",
      "Requirement already satisfied: opencv-contrib-python in /Users/hallo/anaconda3/lib/python3.11/site-packages (from mediapipe) (4.8.1.78)\n",
      "Requirement already satisfied: scipy>=1.5.0 in /Users/hallo/anaconda3/lib/python3.11/site-packages (from scikit-learn) (1.11.1)\n",
      "Requirement already satisfied: joblib>=1.1.1 in /Users/hallo/anaconda3/lib/python3.11/site-packages (from scikit-learn) (1.2.0)\n",
      "Requirement already satisfied: threadpoolctl>=2.0.0 in /Users/hallo/anaconda3/lib/python3.11/site-packages (from scikit-learn) (2.2.0)\n",
      "Requirement already satisfied: contourpy>=1.0.1 in /Users/hallo/anaconda3/lib/python3.11/site-packages (from matplotlib) (1.0.5)\n",
      "Requirement already satisfied: cycler>=0.10 in /Users/hallo/anaconda3/lib/python3.11/site-packages (from matplotlib) (0.11.0)\n",
      "Requirement already satisfied: fonttools>=4.22.0 in /Users/hallo/anaconda3/lib/python3.11/site-packages (from matplotlib) (4.25.0)\n",
      "Requirement already satisfied: kiwisolver>=1.0.1 in /Users/hallo/anaconda3/lib/python3.11/site-packages (from matplotlib) (1.4.4)\n",
      "Requirement already satisfied: pillow>=6.2.0 in /Users/hallo/anaconda3/lib/python3.11/site-packages (from matplotlib) (10.0.1)\n",
      "Requirement already satisfied: pyparsing<3.1,>=2.3.1 in /Users/hallo/anaconda3/lib/python3.11/site-packages (from matplotlib) (3.0.9)\n",
      "Requirement already satisfied: python-dateutil>=2.7 in /Users/hallo/anaconda3/lib/python3.11/site-packages (from matplotlib) (2.8.2)\n",
      "Requirement already satisfied: wheel<1.0,>=0.23.0 in /Users/hallo/anaconda3/lib/python3.11/site-packages (from astunparse>=1.6.0->tensorflow==2.14.1) (0.38.4)\n",
      "Requirement already satisfied: google-auth<3,>=1.6.3 in /Users/hallo/anaconda3/lib/python3.11/site-packages (from tensorboard<2.15,>=2.14->tensorflow==2.14.1) (2.23.4)\n",
      "Requirement already satisfied: google-auth-oauthlib<1.1,>=0.5 in /Users/hallo/anaconda3/lib/python3.11/site-packages (from tensorboard<2.15,>=2.14->tensorflow==2.14.1) (1.0.0)\n",
      "Requirement already satisfied: markdown>=2.6.8 in /Users/hallo/anaconda3/lib/python3.11/site-packages (from tensorboard<2.15,>=2.14->tensorflow==2.14.1) (3.4.1)\n",
      "Requirement already satisfied: requests<3,>=2.21.0 in /Users/hallo/anaconda3/lib/python3.11/site-packages (from tensorboard<2.15,>=2.14->tensorflow==2.14.1) (2.31.0)\n",
      "Requirement already satisfied: tensorboard-data-server<0.8.0,>=0.7.0 in /Users/hallo/anaconda3/lib/python3.11/site-packages (from tensorboard<2.15,>=2.14->tensorflow==2.14.1) (0.7.2)\n",
      "Requirement already satisfied: werkzeug>=1.0.1 in /Users/hallo/anaconda3/lib/python3.11/site-packages (from tensorboard<2.15,>=2.14->tensorflow==2.14.1) (2.2.3)\n",
      "Requirement already satisfied: cachetools<6.0,>=2.0.0 in /Users/hallo/anaconda3/lib/python3.11/site-packages (from google-auth<3,>=1.6.3->tensorboard<2.15,>=2.14->tensorflow==2.14.1) (5.3.2)\n",
      "Requirement already satisfied: pyasn1-modules>=0.2.1 in /Users/hallo/anaconda3/lib/python3.11/site-packages (from google-auth<3,>=1.6.3->tensorboard<2.15,>=2.14->tensorflow==2.14.1) (0.2.8)\n",
      "Requirement already satisfied: rsa<5,>=3.1.4 in /Users/hallo/anaconda3/lib/python3.11/site-packages (from google-auth<3,>=1.6.3->tensorboard<2.15,>=2.14->tensorflow==2.14.1) (4.9)\n",
      "Requirement already satisfied: requests-oauthlib>=0.7.0 in /Users/hallo/anaconda3/lib/python3.11/site-packages (from google-auth-oauthlib<1.1,>=0.5->tensorboard<2.15,>=2.14->tensorflow==2.14.1) (1.3.1)\n",
      "Requirement already satisfied: charset-normalizer<4,>=2 in /Users/hallo/anaconda3/lib/python3.11/site-packages (from requests<3,>=2.21.0->tensorboard<2.15,>=2.14->tensorflow==2.14.1) (2.0.4)\n",
      "Requirement already satisfied: idna<4,>=2.5 in /Users/hallo/anaconda3/lib/python3.11/site-packages (from requests<3,>=2.21.0->tensorboard<2.15,>=2.14->tensorflow==2.14.1) (3.4)\n",
      "Requirement already satisfied: urllib3<3,>=1.21.1 in /Users/hallo/anaconda3/lib/python3.11/site-packages (from requests<3,>=2.21.0->tensorboard<2.15,>=2.14->tensorflow==2.14.1) (1.26.16)\n",
      "Requirement already satisfied: certifi>=2017.4.17 in /Users/hallo/anaconda3/lib/python3.11/site-packages (from requests<3,>=2.21.0->tensorboard<2.15,>=2.14->tensorflow==2.14.1) (2023.11.17)\n",
      "Requirement already satisfied: MarkupSafe>=2.1.1 in /Users/hallo/anaconda3/lib/python3.11/site-packages (from werkzeug>=1.0.1->tensorboard<2.15,>=2.14->tensorflow==2.14.1) (2.1.1)\n",
      "Requirement already satisfied: pyasn1<0.5.0,>=0.4.6 in /Users/hallo/anaconda3/lib/python3.11/site-packages (from pyasn1-modules>=0.2.1->google-auth<3,>=1.6.3->tensorboard<2.15,>=2.14->tensorflow==2.14.1) (0.4.8)\n",
      "Requirement already satisfied: oauthlib>=3.0.0 in /Users/hallo/anaconda3/lib/python3.11/site-packages (from requests-oauthlib>=0.7.0->google-auth-oauthlib<1.1,>=0.5->tensorboard<2.15,>=2.14->tensorflow==2.14.1) (3.2.2)\n",
      "Note: you may need to restart the kernel to use updated packages.\n"
     ]
    }
   ],
   "source": [
    "%pip install tensorflow==2.14.1 opencv-python mediapipe scikit-learn matplotlib"
   ]
  },
  {
   "cell_type": "code",
   "execution_count": 1,
   "id": "9b37c5d9-da91-4535-a68d-e79ce0054e2a",
   "metadata": {},
   "outputs": [
    {
     "name": "stderr",
     "output_type": "stream",
     "text": [
      "2023-12-04 19:32:44.255388: I tensorflow/core/platform/cpu_feature_guard.cc:182] This TensorFlow binary is optimized to use available CPU instructions in performance-critical operations.\n",
      "To enable the following instructions: AVX2 FMA, in other operations, rebuild TensorFlow with the appropriate compiler flags.\n"
     ]
    }
   ],
   "source": [
    "import cv2\n",
    "import numpy as np\n",
    "import os\n",
    "from matplotlib import pyplot as plt\n",
    "import time\n",
    "import mediapipe as mp"
   ]
  },
  {
   "cell_type": "code",
   "execution_count": 2,
   "metadata": {},
   "outputs": [],
   "source": [
    "mp_holistic = mp.solutions.holistic # Holistic model\n",
    "mp_drawing = mp.solutions.drawing_utils # Drawing utilities"
   ]
  },
  {
   "cell_type": "code",
   "execution_count": 4,
   "metadata": {},
   "outputs": [],
   "source": [
    "def mediapipe_detection(image, model):\n",
    "    image = cv2.cvtColor(image, cv2.COLOR_BGR2RGB) # COLOR CONVERSION BGR 2 RGB\n",
    "    image.flags.writeable = False                  # Image is no longer writeable\n",
    "    results = model.process(image)                 # Make prediction\n",
    "    image.flags.writeable = True                   # Image is now writeable \n",
    "    image = cv2.cvtColor(image, cv2.COLOR_RGB2BGR) # COLOR COVERSION RGB 2 BGR\n",
    "    return image, results"
   ]
  },
  {
   "cell_type": "code",
   "execution_count": 6,
   "metadata": {},
   "outputs": [
    {
     "name": "stdout",
     "output_type": "stream",
     "text": [
      "<class 'mediapipe.python.solution_base.SolutionOutputs'>\n",
      "<class 'mediapipe.python.solution_base.SolutionOutputs'>\n",
      "<class 'mediapipe.python.solution_base.SolutionOutputs'>\n",
      "<class 'mediapipe.python.solution_base.SolutionOutputs'>\n",
      "<class 'mediapipe.python.solution_base.SolutionOutputs'>\n",
      "<class 'mediapipe.python.solution_base.SolutionOutputs'>\n",
      "<class 'mediapipe.python.solution_base.SolutionOutputs'>\n",
      "<class 'mediapipe.python.solution_base.SolutionOutputs'>\n",
      "<class 'mediapipe.python.solution_base.SolutionOutputs'>\n",
      "<class 'mediapipe.python.solution_base.SolutionOutputs'>\n",
      "<class 'mediapipe.python.solution_base.SolutionOutputs'>\n",
      "<class 'mediapipe.python.solution_base.SolutionOutputs'>\n",
      "<class 'mediapipe.python.solution_base.SolutionOutputs'>\n",
      "<class 'mediapipe.python.solution_base.SolutionOutputs'>\n",
      "<class 'mediapipe.python.solution_base.SolutionOutputs'>\n",
      "<class 'mediapipe.python.solution_base.SolutionOutputs'>\n",
      "<class 'mediapipe.python.solution_base.SolutionOutputs'>\n",
      "<class 'mediapipe.python.solution_base.SolutionOutputs'>\n",
      "<class 'mediapipe.python.solution_base.SolutionOutputs'>\n",
      "<class 'mediapipe.python.solution_base.SolutionOutputs'>\n",
      "<class 'mediapipe.python.solution_base.SolutionOutputs'>\n",
      "<class 'mediapipe.python.solution_base.SolutionOutputs'>\n",
      "<class 'mediapipe.python.solution_base.SolutionOutputs'>\n",
      "<class 'mediapipe.python.solution_base.SolutionOutputs'>\n",
      "<class 'mediapipe.python.solution_base.SolutionOutputs'>\n",
      "<class 'mediapipe.python.solution_base.SolutionOutputs'>\n",
      "<class 'mediapipe.python.solution_base.SolutionOutputs'>\n",
      "<class 'mediapipe.python.solution_base.SolutionOutputs'>\n",
      "<class 'mediapipe.python.solution_base.SolutionOutputs'>\n",
      "<class 'mediapipe.python.solution_base.SolutionOutputs'>\n",
      "<class 'mediapipe.python.solution_base.SolutionOutputs'>\n",
      "<class 'mediapipe.python.solution_base.SolutionOutputs'>\n",
      "<class 'mediapipe.python.solution_base.SolutionOutputs'>\n",
      "<class 'mediapipe.python.solution_base.SolutionOutputs'>\n",
      "<class 'mediapipe.python.solution_base.SolutionOutputs'>\n",
      "<class 'mediapipe.python.solution_base.SolutionOutputs'>\n",
      "<class 'mediapipe.python.solution_base.SolutionOutputs'>\n",
      "<class 'mediapipe.python.solution_base.SolutionOutputs'>\n",
      "<class 'mediapipe.python.solution_base.SolutionOutputs'>\n",
      "<class 'mediapipe.python.solution_base.SolutionOutputs'>\n",
      "<class 'mediapipe.python.solution_base.SolutionOutputs'>\n",
      "<class 'mediapipe.python.solution_base.SolutionOutputs'>\n",
      "<class 'mediapipe.python.solution_base.SolutionOutputs'>\n",
      "<class 'mediapipe.python.solution_base.SolutionOutputs'>\n",
      "<class 'mediapipe.python.solution_base.SolutionOutputs'>\n",
      "<class 'mediapipe.python.solution_base.SolutionOutputs'>\n",
      "<class 'mediapipe.python.solution_base.SolutionOutputs'>\n",
      "<class 'mediapipe.python.solution_base.SolutionOutputs'>\n",
      "<class 'mediapipe.python.solution_base.SolutionOutputs'>\n",
      "<class 'mediapipe.python.solution_base.SolutionOutputs'>\n",
      "<class 'mediapipe.python.solution_base.SolutionOutputs'>\n",
      "<class 'mediapipe.python.solution_base.SolutionOutputs'>\n"
     ]
    },
    {
     "ename": "",
     "evalue": "",
     "output_type": "error",
     "traceback": [
      "\u001b[1;31mThe Kernel crashed while executing code in the the current cell or a previous cell. Please review the code in the cell(s) to identify a possible cause of the failure. Click <a href='https://aka.ms/vscodeJupyterKernelCrash'>here</a> for more info. View Jupyter <a href='command:jupyter.viewOutput'>log</a> for further details."
     ]
    }
   ],
   "source": [
    "#testing openCV video capture\n",
    "cap = cv2.VideoCapture(0)\n",
    "# Set mediapipe model \n",
    "with mp_holistic.Holistic(min_detection_confidence=0.5, min_tracking_confidence=0.5) as holistic:\n",
    "    while cap.isOpened():\n",
    "\n",
    "        # Read feed\n",
    "        ret, frame = cap.read()\n",
    "\n",
    "        # Make detections\n",
    "        image, results = mediapipe_detection(frame, holistic)\n",
    "        print(results)\n",
    "\n",
    "        # Show to screen\n",
    "        cv2.imshow('OpenCV Feed', image)\n",
    "\n",
    "        # Break gracefully\n",
    "        if cv2.waitKey(10) & 0xFF == ord('q'):\n",
    "            break\n",
    "    cap.release()\n",
    "    cv2.destroyAllWindows()"
   ]
  }
 ],
 "metadata": {
  "kernelspec": {
   "display_name": "Python 3 (ipykernel)",
   "language": "python",
   "name": "python3"
  },
  "language_info": {
   "codemirror_mode": {
    "name": "ipython",
    "version": 3
   },
   "file_extension": ".py",
   "mimetype": "text/x-python",
   "name": "python",
   "nbconvert_exporter": "python",
   "pygments_lexer": "ipython3",
   "version": "3.11.5"
  }
 },
 "nbformat": 4,
 "nbformat_minor": 5
}

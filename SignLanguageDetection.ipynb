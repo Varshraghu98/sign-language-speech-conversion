{
 "cells": [
  {
   "cell_type": "code",
   "execution_count": null,
   "id": "55b675c7-e466-4787-936c-a4970746f1b1",
   "metadata": {},
   "outputs": [],
   "source": [
    "%pip install tensorflow==2.14.1 opencv-python mediapipe scikit-learn matplotlib"
   ]
  },
  {
   "cell_type": "code",
   "execution_count": 2,
   "id": "9b37c5d9-da91-4535-a68d-e79ce0054e2a",
   "metadata": {},
   "outputs": [],
   "source": [
    "import cv2\n",
    "import numpy as np\n",
    "import os\n",
    "from matplotlib import pyplot as plt\n",
    "import time\n",
    "import mediapipe as mp"
   ]
  },
  {
   "cell_type": "code",
   "execution_count": null,
   "metadata": {},
   "outputs": [],
   "source": [
    "#testing openCV video capture\n",
    "def captureVideo():\n",
    "    cap = cv2.VideoCapture(0) \n",
    "    while cap.isOpened:\n",
    "        ret, frame = cap.read()\n",
    "        cv2.imshow(\"OpenCV Feed\", frame)\n",
    "        if cv2.waitKey(10) & 0xFF == ord('q'):\n",
    "            break \n",
    "    cap.release()\n",
    "    cv2.destroyAllwindows()\n",
    "    \n",
    "captureVideo()"
   ]
  }
 ],
 "metadata": {
  "kernelspec": {
   "display_name": "Python 3 (ipykernel)",
   "language": "python",
   "name": "python3"
  },
  "language_info": {
   "codemirror_mode": {
    "name": "ipython",
    "version": 3
   },
   "file_extension": ".py",
   "mimetype": "text/x-python",
   "name": "python",
   "nbconvert_exporter": "python",
   "pygments_lexer": "ipython3",
   "version": "3.9.2"
  }
 },
 "nbformat": 4,
 "nbformat_minor": 5
}
